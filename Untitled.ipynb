{
 "cells": [
  {
   "cell_type": "code",
   "execution_count": 2,
   "id": "f459ba20-bb9d-455b-8927-57028a05f1ec",
   "metadata": {},
   "outputs": [
    {
     "name": "stderr",
     "output_type": "stream",
     "text": [
      "usage: ipykernel_launcher.py [-h] [--user USER] [--password PASSWORD]\n",
      "                             [--host HOST] [--port PORT] [--db DB]\n",
      "                             [--table_name TABLE_NAME] [--url URL]\n",
      "ipykernel_launcher.py: error: unrecognized arguments: -f /home/pydevrichard/.local/share/jupyter/runtime/kernel-ed387148-3409-4a19-8522-17d84d1c0ea7.json\n"
     ]
    },
    {
     "ename": "SystemExit",
     "evalue": "2",
     "output_type": "error",
     "traceback": [
      "An exception has occurred, use %tb to see the full traceback.\n",
      "\u001b[0;31mSystemExit\u001b[0m\u001b[0;31m:\u001b[0m 2\n"
     ]
    }
   ],
   "source": [
    "#!/usr/bin/env python\n",
    "# coding: utf-8\n",
    "\n",
    "import os\n",
    "import argparse\n",
    "from time import time\n",
    "import pandas as pd\n",
    "from sqlalchemy import create_engine\n",
    "\n",
    "\n",
    "def main(params):\n",
    "    user = params.user\n",
    "    password = params.password\n",
    "    host = params.host\n",
    "    port = params.port \n",
    "    db = params.db\n",
    "    table_name = params.table_name\n",
    "    url = params.url\n",
    "\n",
    "    csv_name = url.split(\"/\")[-1]\n",
    "    \n",
    "    csv_name = \"output.csv\"\n",
    "\n",
    "    os.system(f\"wget {url} -O {csv_name}\")\n",
    "\n",
    "    #download the csv\n",
    "\n",
    "    engine = create_engine(f\"postgresql://{user}:{password}@{host}:{port}/{db}\")\n",
    "\n",
    "    df_iter = pd.read_csv(csv_name, iterator=True, chunksize=100000)\n",
    "\n",
    "    df = next(df_iter)\n",
    "\n",
    "    df.tpep_pickup_datetime = pd.to_datetime(df.tpep_pickup_datetime)\n",
    "    df.tpep_dropoff_datetime = pd.to_datetime(df.tpep_dropoff_datetime)\n",
    "\n",
    "    df.head(n=0).to_sql(name=table_name, con=engine, if_exists=\"replace\")\n",
    "\n",
    "    df.to_sql(name=table_name, con=engine, if_exists=\"append\")\n",
    "\n",
    "\n",
    "    while True:\n",
    "        t_start = time()\n",
    "        df = next(df_iter)\n",
    "\n",
    "        df.tpep_pickup_datetime = pd.to_datetime(df.tpep_pickup_datetime)\n",
    "        df.tpep_dropoff_datetime = pd.to_datetime(df.tpep_dropoff_datetime)\n",
    "\n",
    "        df.to_sql(name=table_name, con=engine, if_exists=\"append\")\n",
    "\n",
    "        t_end = time()\n",
    "        print(\"inserted another chunk..., took %.3f seconds\" % (t_end - t_start))\n",
    "\n",
    "\n",
    "if __name__ == \"__main__\":\n",
    "\n",
    "    parser = argparse.ArgumentParser(description='Ingest CSV data to Postgres')\n",
    "\n",
    "    parser.add_argument('--user', help='user name for postgres')\n",
    "    parser.add_argument('--password', help='password for postgres')\n",
    "    parser.add_argument('--host', help='host for postgres')\n",
    "    parser.add_argument('--port', help='port for postgres')\n",
    "    parser.add_argument('--db', help='database name for postgres')\n",
    "    parser.add_argument('--table_name', help='name of table where we will write the result to')\n",
    "    parser.add_argument('--url', help='url of the csv file')\n",
    "\n",
    "    args = parser.parse_args()\n",
    "\n",
    "    main(args)"
   ]
  },
  {
   "cell_type": "code",
   "execution_count": null,
   "id": "749957a6-6b1f-4012-8d90-cb2bd5bf53e5",
   "metadata": {},
   "outputs": [],
   "source": []
  },
  {
   "cell_type": "code",
   "execution_count": null,
   "id": "917344cc-c62b-42e2-af73-5cce65906869",
   "metadata": {},
   "outputs": [],
   "source": []
  },
  {
   "cell_type": "code",
   "execution_count": null,
   "id": "3d0b2302-9274-4391-9b98-ec624d945788",
   "metadata": {},
   "outputs": [],
   "source": []
  }
 ],
 "metadata": {
  "kernelspec": {
   "display_name": "Python 3 (ipykernel)",
   "language": "python",
   "name": "python3"
  },
  "language_info": {
   "codemirror_mode": {
    "name": "ipython",
    "version": 3
   },
   "file_extension": ".py",
   "mimetype": "text/x-python",
   "name": "python",
   "nbconvert_exporter": "python",
   "pygments_lexer": "ipython3",
   "version": "3.10.12"
  }
 },
 "nbformat": 4,
 "nbformat_minor": 5
}
